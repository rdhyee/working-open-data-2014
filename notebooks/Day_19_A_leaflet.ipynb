{
 "cells": [
  {
   "cell_type": "markdown",
   "metadata": {},
   "source": [
    "[Leaflet - a JavaScript library for mobile-friendly maps](http://leafletjs.com/)"
   ]
  },
  {
   "cell_type": "markdown",
   "metadata": {},
   "source": [
    "I have a question:  can you use requirejs to deal with non-AMD JavaScript files?  According to http://stackoverflow.com/a/14603398/7782: maybe.  Seems to be affirmed by [Requirement #9:  Load any script](http://requirejs.org/docs/requirements.html#9)."
   ]
  },
  {
   "cell_type": "markdown",
   "metadata": {},
   "source": [
    "# demonstration of displaying leaflet.js map in Jupyter notebook\n",
    "\n",
    "Tricky part was styling the output to prevent malformed display of the tiles, which should not have any extra margins."
   ]
  },
  {
   "cell_type": "code",
   "execution_count": null,
   "metadata": {
    "collapsed": true
   },
   "outputs": [],
   "source": [
    "from IPython.display import HTML, display, clear_output\n",
    "import uuid\n",
    "\n",
    "import jinja2\n",
    "from jinja2 import Template\n",
    "\n",
    "from settings import (MAPBOX_KEY, MAPBOX_PROJ_ID)\n",
    "\n",
    "\n",
    "def leaflet_HTML(lat=37.8717, long_=-122.2728, height= 300, zoom=12, div_id=None,\n",
    "                 mapbox_key=MAPBOX_KEY, mapbox_proj_id=MAPBOX_PROJ_ID):\n",
    "    \n",
    "    CSS_URL = \"http://cdn.leafletjs.com/leaflet/v0.7.7/leaflet.css\"\n",
    "    LEAFLET_JS_URL = \"http://cdn.leafletjs.com/leaflet/v0.7.7/leaflet\"\n",
    "\n",
    "    if div_id is None:\n",
    "        div_id = 'i' + str(uuid.uuid4())\n",
    "\n",
    "    JS = u\"\"\"\n",
    "    <script type=\"text/javascript\">\n",
    "\n",
    "\n",
    "        // load css if it's not already there: http://stackoverflow.com/a/4724676/7782\n",
    "        function loadcss(url) {\n",
    "            if (!$(\"link[href='\" + url + \"']\").length)\n",
    "                $('<link href=\"' + url + '\" rel=\"stylesheet\">').appendTo(\"head\");\n",
    "        }\n",
    "\n",
    "        function add_map(id, map) {\n",
    "\n",
    "\n",
    "            if ('_my_maps' in window && window._my_maps !== undefined) {\n",
    "                window._my_maps[id] = map;\n",
    "            } else {\n",
    "                window._my_maps = {};\n",
    "                window._my_maps[id] = map;\n",
    "            }\n",
    "        }\n",
    "\n",
    "\n",
    "        require.config({\n",
    "          paths: {\n",
    "            leaflet: \"{{leaflet_js_url}}\"\n",
    "          }\n",
    "        });\n",
    "\n",
    "\n",
    "        loadcss(\"{{css_url}}\");\n",
    "\n",
    "        require([\"leaflet\"], function(leaflet) {\n",
    "\n",
    "            var map = L.map('{{div_id}}').setView([{{lat}}, {{long_}}], {{zoom}});\n",
    "\n",
    "            L.tileLayer('https://api.tiles.mapbox.com/v4/{id}/{z}/{x}/{y}.png?access_token={accessToken}', {\n",
    "              attribution: 'Map data &copy; <a href=\"http://openstreetmap.org\">OpenStreetMap</a> contributors, <a href=\"http://creativecommons.org/licenses/by-sa/2.0/\">CC-BY-SA</a>, Imagery © <a href=\"http://mapbox.com\">Mapbox</a>',\n",
    "              maxZoom: 18,\n",
    "              id: '{{mapbox_proj_id}}',\n",
    "              accessToken: '{{mapbox_key}}'\n",
    "    }).addTo(map);\n",
    "    \n",
    "            add_map('{{div_id}}', map);\n",
    "\n",
    "\n",
    "        });\n",
    "\n",
    "    </script>\n",
    "    \"\"\"\n",
    "\n",
    "    # demonstrates interference from .rendered_html CSS\n",
    "\n",
    "    CSS = \"\"\"\n",
    "    <style type=\"text/css\">\n",
    "        #{{div_id}} { \n",
    "           height: {{height}}px; \n",
    "        }\n",
    "        /* counter http://bit.ly/1jMOANz */\n",
    "         #{{div_id}} * + img {margin-top: 0em;}\n",
    "    </style>\n",
    "    \"\"\"\n",
    "\n",
    "    HTML_ = \"\"\"\n",
    "    <div id=\"{{div_id}}\"></div>\n",
    "    \"\"\"\n",
    "\n",
    "    template = Template(CSS + JS + HTML_)\n",
    "    \n",
    "    return HTML(template.render(leaflet_js_url=LEAFLET_JS_URL,\n",
    "                          css_url = CSS_URL,\n",
    "                          mapbox_key = mapbox_key,\n",
    "                          mapbox_proj_id = mapbox_proj_id,\n",
    "                          lat=lat,\n",
    "                          long_=long_,\n",
    "                          zoom=zoom,\n",
    "                          div_id=div_id,\n",
    "                          height=height\n",
    "                          ))\n",
    "\n"
   ]
  },
  {
   "cell_type": "code",
   "execution_count": null,
   "metadata": {
    "collapsed": false
   },
   "outputs": [],
   "source": [
    "leaflet_HTML(lat=37.8717, long_=-122.2728, height= 300, zoom=12, div_id=None,\n",
    "                 mapbox_key=MAPBOX_KEY, mapbox_proj_id=MAPBOX_PROJ_ID)"
   ]
  },
  {
   "cell_type": "code",
   "execution_count": null,
   "metadata": {
    "collapsed": false
   },
   "outputs": [],
   "source": [
    "# will normalize.css fix this problem?\n",
    "# no, not now\n",
    "\n",
    "from IPython.display import HTML, display, clear_output\n",
    "import uuid\n",
    "\n",
    "import jinja2\n",
    "from jinja2 import Template\n",
    "\n",
    "from settings import (MAPBOX_KEY, MAPBOX_PROJ_ID)\n",
    "\n",
    "CSS_URL = \"http://cdn.leafletjs.com/leaflet/v0.7.2/leaflet.css\"\n",
    "LEAFLET_JS_URL = \"http://cdn.leafletjs.com/leaflet/v0.7.2/leaflet\"\n",
    "\n",
    "div_id = 'i' + str(uuid.uuid4())\n",
    "\n",
    "JS = u\"\"\"\n",
    "<script type=\"text/javascript\">\n",
    "\n",
    "\n",
    "    // load css if it's not already there: http://stackoverflow.com/a/4724676/7782\n",
    "    function loadcss(url) {\n",
    "        if (!$(\"link[href='\" + url + \"']\").length)\n",
    "            $('<link href=\"' + url + '\" rel=\"stylesheet\">').appendTo(\"head\");\n",
    "    }\n",
    "\n",
    "    function add_map(id, map) {\n",
    "\n",
    "        if ('_my_maps' in window && window._my_maps !== undefined) {\n",
    "            window._my_maps[id] = map;\n",
    "        } else {\n",
    "            window._my_maps = {};\n",
    "            window._my_maps[id] = map;\n",
    "        }\n",
    "    }\n",
    "\n",
    "    require.config({\n",
    "      paths: {\n",
    "        leaflet: \"{{leaflet_js_url}}\"\n",
    "      }\n",
    "    });\n",
    "\n",
    "    \n",
    "    loadcss(\"{{css_url}}\");\n",
    "    loadcss(\"http://yui.yahooapis.com/3.18.0/build/cssnormalize-context/cssnormalize-context-min.css\");\n",
    "    \n",
    " \n",
    "    require([\"leaflet\"], function(leaflet) {\n",
    "\n",
    "        var map = L.map('{{div_id}}').setView([{{lat}}, {{long}}], {{zoom}});\n",
    "        \n",
    "        L.tileLayer('https://api.tiles.mapbox.com/v4/{id}/{z}/{x}/{y}.png?access_token={accessToken}', {\n",
    "          attribution: 'Map data &copy; <a href=\"http://openstreetmap.org\">OpenStreetMap</a> contributors, <a href=\"http://creativecommons.org/licenses/by-sa/2.0/\">CC-BY-SA</a>, Imagery © <a href=\"http://mapbox.com\">Mapbox</a>',\n",
    "          maxZoom: 18,\n",
    "          id: '{{mapbox_proj_id}}',\n",
    "          accessToken: '{{mapbox_key}}'\n",
    "}).addTo(map);\n",
    "\n",
    "\n",
    "    add_map('{{div_id}}', map);\n",
    "\n",
    "    \n",
    "    });\n",
    "\n",
    "</script>\n",
    "\"\"\"\n",
    "\n",
    "# demonstrates interference from .rendered_html CSS\n",
    "\n",
    "CSS = \"\"\"\n",
    "<style type=\"text/css\">\n",
    "    #{{div_id}} { height: {{height}}px; }\n",
    "</style>\n",
    "\"\"\"\n",
    "\n",
    "HTML_ = \"\"\"\n",
    "<div id=\"{{div_id}}\" class=\"yui3-normalized\"></div>\n",
    "\"\"\"\n",
    "\n",
    "template = Template(CSS + JS + HTML_)\n",
    "HTML(template.render(leaflet_js_url=LEAFLET_JS_URL,\n",
    "                      css_url = CSS_URL,\n",
    "                      mapbox_key = MAPBOX_KEY,\n",
    "                      mapbox_proj_id = MAPBOX_PROJ_ID,\n",
    "                      lat=37.8717,\n",
    "                      long=-122.2728,\n",
    "                      zoom=12,\n",
    "                      div_id=div_id,\n",
    "                      height=300\n",
    "                      ))\n",
    "\n",
    "\n"
   ]
  },
  {
   "cell_type": "code",
   "execution_count": null,
   "metadata": {
    "collapsed": true
   },
   "outputs": [],
   "source": [
    "from ipywidgets import interact"
   ]
  },
  {
   "cell_type": "code",
   "execution_count": null,
   "metadata": {
    "collapsed": false
   },
   "outputs": [],
   "source": [
    "from ipywidgets import (interact, interactive, fixed)\n",
    "import ipywidgets as widgets\n",
    "\n",
    "zoom_widget = widgets.IntSlider(min=1, max=18, step=1)\n",
    "zoom_widget.value = 12\n",
    "\n",
    "interact(leaflet_HTML, lat=fixed(37.8717), long_=fixed(-122.2728), height=fixed(300),\n",
    "         div_id=fixed(None), mapbox_key=fixed(MAPBOX_KEY), mapbox_proj_id=fixed(MAPBOX_PROJ_ID),\n",
    "         zoom=zoom_widget)\n",
    "\n"
   ]
  },
  {
   "cell_type": "markdown",
   "metadata": {},
   "source": [
    "# Doing more with a map"
   ]
  },
  {
   "cell_type": "code",
   "execution_count": null,
   "metadata": {
    "collapsed": false
   },
   "outputs": [],
   "source": [
    "%%javascript\n",
    "console.log(IPython.notebook.get_cells());"
   ]
  },
  {
   "cell_type": "code",
   "execution_count": null,
   "metadata": {
    "collapsed": false
   },
   "outputs": [],
   "source": [
    "%%javascript\n",
    "require([\"leaflet\"], function(leaflet) {\n",
    "\n",
    "    console.log(L.version);\n",
    "\n",
    "    // attempt to find maps in the window object -- not successful.\n",
    "    var mapObjects = [];\n",
    "    for(var key in _my_maps) {\n",
    "      var map = _my_maps[key];\n",
    "      if (map instanceof L.Map) {\n",
    "        // foo instance found in the global scope, named by key\n",
    "        console.log(map.getCenter())\n",
    "      }\n",
    "    }\n",
    "\n",
    "    \n",
    "});"
   ]
  }
 ],
 "metadata": {
  "kernelspec": {
   "display_name": "Python 2",
   "language": "python",
   "name": "python2"
  },
  "language_info": {
   "codemirror_mode": {
    "name": "ipython",
    "version": 2
   },
   "file_extension": ".py",
   "mimetype": "text/x-python",
   "name": "python",
   "nbconvert_exporter": "python",
   "pygments_lexer": "ipython2",
   "version": "2.7.10"
  }
 },
 "nbformat": 4,
 "nbformat_minor": 0
}
