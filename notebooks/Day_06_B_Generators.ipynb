{
 "cells": [
  {
   "cell_type": "markdown",
   "metadata": {},
   "source": [
    "# Goals"
   ]
  },
  {
   "cell_type": "markdown",
   "metadata": {},
   "source": [
    "**To practice using generators to yield geographical entities of various types.**  \n",
    "\n",
    "Generators are a bit complicated, and I won't try to explain all the intricacies here.  I will show you how to use `yield` in a function definition to return a generator.  From [Definition of a generator](http://docs.python.org/2/glossary.html#term-generator):\n",
    "\n",
    "<blockquote>A function which returns an iterator. It looks like a normal function except that it contains yield statements for producing a series a values usable in a for-loop or that can be retrieved one at a time with the next() function. Each yield temporarily suspends processing, remembering the location execution state (including local variables and pending try-statements). When the generator resumes, it picks-up where it left-off (in contrast to functions which start fresh on every invocation)</blockquote>\n",
    "\n",
    "For some background on Python generators:\n",
    "\n",
    "* [iterator - The Python yield keyword explained - Stack Overflow](http://stackoverflow.com/questions/231767/the-python-yield-keyword-explained/231855#231855)\n",
    "* [Improve Your Python: 'yield' and Generators Explained](http://www.jeffknupp.com/blog/2013/04/07/improve-your-python-yield-and-generators-explained/) \n",
    "\n",
    "Why use generators: http://stackoverflow.com/a/102632/7782\n",
    "\n",
    "<blockquote>Generators are good for calculating large sets of results (in particular calculations involving loops themselves) where you don't know if you are going to need all results, or where you don't want to allocate the memory for all results at the same time. </blockquote>\n",
    "\n",
    "Also, let's also practice using [itertools.islice](http://www.python.org/doc//current/library/itertools.html#itertools.islice) and [enumerate](http://docs.python.org/2/library/functions.html#enumerate) -- two of my favorite constructions in Python\n"
   ]
  },
  {
   "cell_type": "markdown",
   "metadata": {},
   "source": [
    "From http://api.census.gov/data/2010/sf1/geo.html, geographic entities we are specifically interested in this exercise:\n",
    "\n",
    "* state-county\n",
    "* state-county-tract\n",
    "\n",
    "* state-place\n",
    "* state-metropolitan statistical area/micropolitan statistical area\n",
    "* state-metropolitan statistical area/micropolitan statistical area-metropolitan division\n",
    "* state-combined statistical area\n"
   ]
  },
  {
   "cell_type": "code",
   "execution_count": 1,
   "metadata": {
    "collapsed": false
   },
   "outputs": [],
   "source": [
    "# usual imports for numpy, pandas, matplotlib\n",
    "\n",
    "import numpy as np\n",
    "import matplotlib.pyplot as plt\n",
    "from pandas import DataFrame, Series, Index\n",
    "import pandas as pd"
   ]
  },
  {
   "cell_type": "code",
   "execution_count": 2,
   "metadata": {
    "collapsed": false
   },
   "outputs": [],
   "source": [
    "# check that CENSUS_KEY is defined\n",
    "\n",
    "import census\n",
    "import us\n",
    "\n",
    "import settings\n",
    "assert settings.CENSUS_KEY is not None"
   ]
  },
  {
   "cell_type": "code",
   "execution_count": 3,
   "metadata": {
    "collapsed": false
   },
   "outputs": [],
   "source": [
    "# instantiate our Census object\n",
    "\n",
    "c = census.Census(key=settings.CENSUS_KEY)"
   ]
  },
  {
   "cell_type": "markdown",
   "metadata": {},
   "source": [
    "# A bit of warmup with Generators"
   ]
  },
  {
   "cell_type": "code",
   "execution_count": 4,
   "metadata": {
    "collapsed": false
   },
   "outputs": [
    {
     "name": "stdout",
     "output_type": "stream",
     "text": [
      "['a', 'b', 'c', 'd', 'e', 'f', 'g', 'h', 'i', 'j', 'k', 'l', 'm', 'n', 'o', 'p', 'q', 'r', 's', 't', 'u', 'v', 'w', 'x', 'y', 'z']\n"
     ]
    }
   ],
   "source": [
    "import string\n",
    "print list(string.lowercase)"
   ]
  },
  {
   "cell_type": "code",
   "execution_count": 5,
   "metadata": {
    "collapsed": false
   },
   "outputs": [],
   "source": [
    "def abcs():\n",
    "    alphabet = ['a', 'b', 'c', 'd', 'e', 'f', 'g', 'h', 'i', 'j', 'k', \n",
    "                'l', 'm', 'n', 'o', 'p', 'q', 'r', 's', 't', 'u', 'v', \n",
    "                'w', 'x', 'y', 'z']\n",
    "    \"\"\"a generator that returns \"\"\"\n",
    "    for letter in alphabet:\n",
    "        yield letter\n",
    "\n",
    "# a generator that gives you the letters of the alphabet a letter at a time         \n",
    "say_abcs =  abcs()       "
   ]
  },
  {
   "cell_type": "code",
   "execution_count": 6,
   "metadata": {
    "collapsed": false
   },
   "outputs": [
    {
     "data": {
      "text/plain": [
       "'a'"
      ]
     },
     "execution_count": 6,
     "metadata": {},
     "output_type": "execute_result"
    }
   ],
   "source": [
    "# run this line over and over again to see the letters one at a time\n",
    "say_abcs.next()"
   ]
  },
  {
   "cell_type": "code",
   "execution_count": 7,
   "metadata": {
    "collapsed": false
   },
   "outputs": [
    {
     "data": {
      "text/plain": [
       "['a',\n",
       " 'b',\n",
       " 'c',\n",
       " 'd',\n",
       " 'e',\n",
       " 'f',\n",
       " 'g',\n",
       " 'h',\n",
       " 'i',\n",
       " 'j',\n",
       " 'k',\n",
       " 'l',\n",
       " 'm',\n",
       " 'n',\n",
       " 'o',\n",
       " 'p',\n",
       " 'q',\n",
       " 'r',\n",
       " 's',\n",
       " 't',\n",
       " 'u',\n",
       " 'v',\n",
       " 'w',\n",
       " 'x',\n",
       " 'y',\n",
       " 'z']"
      ]
     },
     "execution_count": 7,
     "metadata": {},
     "output_type": "execute_result"
    }
   ],
   "source": [
    "# you can use list to grab all the items in an iterator.  But be careful if the number\n",
    "# of items is large or even infinite!  In this case, we're ok\n",
    "\n",
    "list(abcs())"
   ]
  },
  {
   "cell_type": "markdown",
   "metadata": {},
   "source": [
    "Demonstration of how to use [enumerate](http://docs.python.org/2/library/functions.html#enumerate):\n",
    "\n",
    "<blockquote>Return an enumerate object. sequence must be a sequence, an iterator, or some other object which supports iteration. The next() method of the iterator returned by enumerate() returns a tuple containing a count (from start which defaults to 0) and the values obtained from iterating over sequence</blockquote>\n",
    "\n"
   ]
  },
  {
   "cell_type": "code",
   "execution_count": 8,
   "metadata": {
    "collapsed": false
   },
   "outputs": [
    {
     "name": "stdout",
     "output_type": "stream",
     "text": [
      "0 a\n",
      "1 b\n",
      "2 c\n",
      "3 d\n",
      "4 e\n",
      "5 f\n",
      "6 g\n",
      "7 h\n",
      "8 i\n",
      "9 j\n",
      "10 k\n",
      "11 l\n",
      "12 m\n",
      "13 n\n",
      "14 o\n",
      "15 p\n",
      "16 q\n",
      "17 r\n",
      "18 s\n",
      "19 t\n",
      "20 u\n",
      "21 v\n",
      "22 w\n",
      "23 x\n",
      "24 y\n",
      "25 z\n"
     ]
    }
   ],
   "source": [
    "for (i, letter) in enumerate(abcs()):\n",
    "    print i, letter"
   ]
  },
  {
   "cell_type": "markdown",
   "metadata": {},
   "source": [
    "You can use itertools.islice [itertools.islice](http://www.python.org/doc//current/library/itertools.html#itertools.islice) to return parts of the iterator.\n",
    "\n",
    "<blockquote>Make an iterator that returns selected elements from the iterable. If start is non-zero, then elements from the iterable are skipped until start is reached. Afterward, elements are returned consecutively unless step is set higher than one which results in items being skipped. If stop is None, then iteration continues until the iterator is exhausted, if at all; otherwise, it stops at the specified position. Unlike regular slicing, islice() does not support negative values for start, stop, or step. Can be used to extract related fields from data where the internal structure has been flattened (for example, a multi-line report may list a name field on every third line).</blockquote>"
   ]
  },
  {
   "cell_type": "code",
   "execution_count": 9,
   "metadata": {
    "collapsed": false
   },
   "outputs": [
    {
     "data": {
      "text/plain": [
       "['a', 'b', 'c', 'd', 'e', 'f', 'g', 'h', 'i', 'j']"
      ]
     },
     "execution_count": 9,
     "metadata": {},
     "output_type": "execute_result"
    }
   ],
   "source": [
    "# let's get the first 10 letters of the alphabet\n",
    "\n",
    "from itertools import islice\n",
    "list(islice(abcs(), 10))"
   ]
  },
  {
   "cell_type": "code",
   "execution_count": 10,
   "metadata": {
    "collapsed": false
   },
   "outputs": [
    {
     "data": {
      "text/plain": [
       "['a',\n",
       " 'b',\n",
       " 'c',\n",
       " 'd',\n",
       " 'e',\n",
       " 'f',\n",
       " 'g',\n",
       " 'h',\n",
       " 'i',\n",
       " 'j',\n",
       " 'k',\n",
       " 'l',\n",
       " 'm',\n",
       " 'n',\n",
       " 'o',\n",
       " 'p',\n",
       " 'q',\n",
       " 'r',\n",
       " 's',\n",
       " 't',\n",
       " 'u',\n",
       " 'v',\n",
       " 'w',\n",
       " 'x',\n",
       " 'y',\n",
       " 'z']"
      ]
     },
     "execution_count": 10,
     "metadata": {},
     "output_type": "execute_result"
    }
   ],
   "source": [
    "# you can use None to get all items in islice\n",
    "# from docs: \"If stop is None, then iteration continues until the iterator is exhausted,\"\n",
    "\n",
    "list(islice(abcs(), None))"
   ]
  },
  {
   "cell_type": "code",
   "execution_count": 11,
   "metadata": {
    "collapsed": false
   },
   "outputs": [],
   "source": [
    "# itertools.count can in principle generate an infinite sequence\n",
    "# http://www.python.org/doc//current/library/itertools.html#itertools.count\n",
    "\n",
    "from itertools import count\n",
    "\n",
    "# count starting zero\n",
    "my_counter = count(0)"
   ]
  },
  {
   "cell_type": "code",
   "execution_count": 12,
   "metadata": {
    "collapsed": false
   },
   "outputs": [
    {
     "data": {
      "text/plain": [
       "0"
      ]
     },
     "execution_count": 12,
     "metadata": {},
     "output_type": "execute_result"
    }
   ],
   "source": [
    "# try it out \n",
    "my_counter.next()"
   ]
  },
  {
   "cell_type": "code",
   "execution_count": 13,
   "metadata": {
    "collapsed": false
   },
   "outputs": [
    {
     "data": {
      "text/plain": [
       "[0, 1, 2, 3, 4, 5, 6, 7, 8, 9]"
      ]
     },
     "execution_count": 13,
     "metadata": {},
     "output_type": "execute_result"
    }
   ],
   "source": [
    "# DON'T do list(count(0))  -> you'll be trying to generate an infinite list\n",
    "# but use an upper limit\n",
    "\n",
    "list(islice(count(0),10))"
   ]
  },
  {
   "cell_type": "code",
   "execution_count": 14,
   "metadata": {
    "collapsed": false
   },
   "outputs": [
    {
     "data": {
      "text/plain": [
       "[1, 2]"
      ]
     },
     "execution_count": 14,
     "metadata": {},
     "output_type": "execute_result"
    }
   ],
   "source": [
    "# start, stop\n",
    "list(islice(count(),1,3))"
   ]
  },
  {
   "cell_type": "markdown",
   "metadata": {},
   "source": [
    "# Generator for US Counties"
   ]
  },
  {
   "cell_type": "code",
   "execution_count": 15,
   "metadata": {
    "collapsed": false
   },
   "outputs": [
    {
     "data": {
      "text/plain": [
       "[{u'NAME': u'Alameda County',\n",
       "  u'P0010001': u'1510271',\n",
       "  u'county': u'001',\n",
       "  u'state': u'06'},\n",
       " {u'NAME': u'Alpine County',\n",
       "  u'P0010001': u'1175',\n",
       "  u'county': u'003',\n",
       "  u'state': u'06'},\n",
       " {u'NAME': u'Amador County',\n",
       "  u'P0010001': u'38091',\n",
       "  u'county': u'005',\n",
       "  u'state': u'06'},\n",
       " {u'NAME': u'Butte County',\n",
       "  u'P0010001': u'220000',\n",
       "  u'county': u'007',\n",
       "  u'state': u'06'},\n",
       " {u'NAME': u'Calaveras County',\n",
       "  u'P0010001': u'45578',\n",
       "  u'county': u'009',\n",
       "  u'state': u'06'}]"
      ]
     },
     "execution_count": 15,
     "metadata": {},
     "output_type": "execute_result"
    }
   ],
   "source": [
    "# get the syntax down for getting counties from CA -- so that then we can use it later\n",
    "\n",
    "r = c.sf1.get('NAME,P0010001', geo={'for':'county:*',\n",
    "                                'in':'state:{fips}'.format(fips=us.states.CA.fips)})\n",
    "r[:5]"
   ]
  },
  {
   "cell_type": "markdown",
   "metadata": {},
   "source": [
    "With the census API, you can get the counties with one single call to the census API or state-by-state.  The `counties` generator below takes the first approach while `counties2` takes the second approach. Although `counties` is more efficient in most cases I can think of, it will be useful to know how to do calls on a state-by-state basis.  For example, when we to query on a census tract level or below, we will need to work on a state-by-state basis. "
   ]
  },
  {
   "cell_type": "code",
   "execution_count": 16,
   "metadata": {
    "collapsed": false
   },
   "outputs": [],
   "source": [
    "def counties(variables='NAME'):\n",
    "    \"\"\"ask for all the states\"\"\"\n",
    "    \n",
    "    # tabulate a set of fips codes for the states\n",
    "    states_fips = set([s.fips for s in us.states.STATES])\n",
    "    \n",
    "    geo={'for':'county:*',\n",
    "             'in':'state:*'}    \n",
    "    for county in c.sf1.get(variables, geo=geo):\n",
    "        # eliminate counties whose states aren't in a state or DC\n",
    "        if county['state'] in states_fips:\n",
    "            yield county\n",
    "        \n",
    "\n",
    "def counties2(variables='NAME'):\n",
    "    \"\"\"generator for all counties\"\"\"\n",
    "    \n",
    "    # since we can get all the counties in one call, \n",
    "    # this function is for demonstrating the use of walking through \n",
    "    # the states to get at the counties\n",
    "\n",
    "    for state in us.states.STATES:\n",
    "        geo={'for':'county:*',\n",
    "             'in':'state:{fips}'.format(fips=state.fips)}\n",
    "        for county in c.sf1.get(variables, geo=geo):\n",
    "            yield county\n",
    "        "
   ]
  },
  {
   "cell_type": "code",
   "execution_count": 17,
   "metadata": {
    "collapsed": false
   },
   "outputs": [],
   "source": [
    "counties_list = list(counties('NAME,P0010001'))"
   ]
  },
  {
   "cell_type": "code",
   "execution_count": 18,
   "metadata": {
    "collapsed": false
   },
   "outputs": [
    {
     "data": {
      "text/plain": [
       "308745538"
      ]
     },
     "execution_count": 18,
     "metadata": {},
     "output_type": "execute_result"
    }
   ],
   "source": [
    "# add up the population to make sure we have the total right\n",
    "counties_df = DataFrame(counties_list)\n",
    "counties_df.P0010001 = counties_df.P0010001.astype('int')\n",
    "counties_df.P0010001.sum()"
   ]
  },
  {
   "cell_type": "markdown",
   "metadata": {},
   "source": [
    "One reason for writing all the counties in the form of a Python generator is tha you can easily control the number of counties we work with at any given time -- and then easily scaling out to get all of them. "
   ]
  },
  {
   "cell_type": "code",
   "execution_count": 19,
   "metadata": {
    "collapsed": false
   },
   "outputs": [
    {
     "data": {
      "text/plain": [
       "[{u'NAME': u'Autauga County', u'county': u'001', u'state': u'01'},\n",
       " {u'NAME': u'Baldwin County', u'county': u'003', u'state': u'01'},\n",
       " {u'NAME': u'Barbour County', u'county': u'005', u'state': u'01'},\n",
       " {u'NAME': u'Bibb County', u'county': u'007', u'state': u'01'},\n",
       " {u'NAME': u'Blount County', u'county': u'009', u'state': u'01'},\n",
       " {u'NAME': u'Bullock County', u'county': u'011', u'state': u'01'},\n",
       " {u'NAME': u'Butler County', u'county': u'013', u'state': u'01'},\n",
       " {u'NAME': u'Calhoun County', u'county': u'015', u'state': u'01'},\n",
       " {u'NAME': u'Chambers County', u'county': u'017', u'state': u'01'},\n",
       " {u'NAME': u'Cherokee County', u'county': u'019', u'state': u'01'}]"
      ]
     },
     "execution_count": 19,
     "metadata": {},
     "output_type": "execute_result"
    }
   ],
   "source": [
    "# make a list of the first ten counties\n",
    "\n",
    "from itertools import islice\n",
    "list(islice(counties2(),10))"
   ]
  },
  {
   "cell_type": "markdown",
   "metadata": {},
   "source": [
    "# Generator for Census Tracts"
   ]
  },
  {
   "cell_type": "markdown",
   "metadata": {},
   "source": [
    "The following generator loops through all the states to get at the individual counties to then get at the census tracts."
   ]
  },
  {
   "cell_type": "code",
   "execution_count": 20,
   "metadata": {
    "collapsed": false
   },
   "outputs": [],
   "source": [
    "def tracts(variables='NAME'):\n",
    "    for state in us.states.STATES:\n",
    "        \n",
    "        # handy to print out state to monitor progress\n",
    "        print state.fips, state\n",
    "        counties_in_state={'for':'county:*',\n",
    "             'in':'state:{fips}'.format(fips=state.fips)}\n",
    "        \n",
    "        for county in c.sf1.get('NAME', geo=counties_in_state):\n",
    "            \n",
    "            # print county['state'], county['NAME']\n",
    "            tracts_in_county = {'for':'tract:*',\n",
    "              'in': 'state:{s_fips} county:{c_fips}'.format(s_fips=state.fips, \n",
    "                                                            c_fips=county['county'])}\n",
    "            \n",
    "            for tract in c.sf1.get(variables,geo=tracts_in_county):\n",
    "                yield tract\n",
    "        "
   ]
  },
  {
   "cell_type": "code",
   "execution_count": 21,
   "metadata": {
    "collapsed": false
   },
   "outputs": [
    {
     "name": "stdout",
     "output_type": "stream",
     "text": [
      "01 Alabama\n",
      "number of tracts 10\n",
      "total pop 48357\n"
     ]
    },
    {
     "data": {
      "text/html": [
       "<div style=\"max-height:1000px;max-width:1500px;overflow:auto;\">\n",
       "<table border=\"1\" class=\"dataframe\">\n",
       "  <thead>\n",
       "    <tr style=\"text-align: right;\">\n",
       "      <th></th>\n",
       "      <th>NAME</th>\n",
       "      <th>P0010001</th>\n",
       "      <th>county</th>\n",
       "      <th>state</th>\n",
       "      <th>tract</th>\n",
       "      <th>FIPS</th>\n",
       "    </tr>\n",
       "  </thead>\n",
       "  <tbody>\n",
       "    <tr>\n",
       "      <th>0</th>\n",
       "      <td>Census Tract 201</td>\n",
       "      <td>1912</td>\n",
       "      <td>001</td>\n",
       "      <td>01</td>\n",
       "      <td>020100</td>\n",
       "      <td>01001020100</td>\n",
       "    </tr>\n",
       "    <tr>\n",
       "      <th>1</th>\n",
       "      <td>Census Tract 202</td>\n",
       "      <td>2170</td>\n",
       "      <td>001</td>\n",
       "      <td>01</td>\n",
       "      <td>020200</td>\n",
       "      <td>01001020200</td>\n",
       "    </tr>\n",
       "    <tr>\n",
       "      <th>2</th>\n",
       "      <td>Census Tract 203</td>\n",
       "      <td>3373</td>\n",
       "      <td>001</td>\n",
       "      <td>01</td>\n",
       "      <td>020300</td>\n",
       "      <td>01001020300</td>\n",
       "    </tr>\n",
       "    <tr>\n",
       "      <th>3</th>\n",
       "      <td>Census Tract 204</td>\n",
       "      <td>4386</td>\n",
       "      <td>001</td>\n",
       "      <td>01</td>\n",
       "      <td>020400</td>\n",
       "      <td>01001020400</td>\n",
       "    </tr>\n",
       "    <tr>\n",
       "      <th>4</th>\n",
       "      <td>Census Tract 205</td>\n",
       "      <td>10766</td>\n",
       "      <td>001</td>\n",
       "      <td>01</td>\n",
       "      <td>020500</td>\n",
       "      <td>01001020500</td>\n",
       "    </tr>\n",
       "  </tbody>\n",
       "</table>\n",
       "</div>"
      ],
      "text/plain": [
       "               NAME  P0010001 county state   tract         FIPS\n",
       "0  Census Tract 201      1912    001    01  020100  01001020100\n",
       "1  Census Tract 202      2170    001    01  020200  01001020200\n",
       "2  Census Tract 203      3373    001    01  020300  01001020300\n",
       "3  Census Tract 204      4386    001    01  020400  01001020400\n",
       "4  Census Tract 205     10766    001    01  020500  01001020500"
      ]
     },
     "execution_count": 21,
     "metadata": {},
     "output_type": "execute_result"
    }
   ],
   "source": [
    "r = list(islice(tracts('NAME,P0010001'),10))\n",
    "tracts_df = DataFrame(r)\n",
    "tracts_df.P0010001 = tracts_df.P0010001.astype('int')\n",
    "tracts_df['FIPS'] = tracts_df.apply(lambda s: s['state']+s['county']+s['tract'], axis=1)\n",
    "print \"number of tracts\", len(tracts_df)\n",
    "print \"total pop\", tracts_df.P0010001.sum()\n",
    "tracts_df.head()"
   ]
  },
  {
   "cell_type": "markdown",
   "metadata": {},
   "source": [
    "Good to save the DataFrame so we can load up the census tracts without having call the census api again.\n",
    "\n",
    "I/O: http://pandas.pydata.org/pandas-docs/dev/io.html\n",
    "\n",
    "Today, we'll use [pickle format](http://docs.python.org/2/library/pickle.html) and look at other formats.\n"
   ]
  },
  {
   "cell_type": "code",
   "execution_count": 22,
   "metadata": {
    "collapsed": false
   },
   "outputs": [],
   "source": [
    "TRACT_FILE_PICKLE = \"tracts.pickle\"\n",
    "\n",
    "# UNCOMMENT THIS LINE TO SAVE YOUR FILE\n",
    "# tracts_df.to_pickle(TRACT_FILE_PICKLE)"
   ]
  },
  {
   "cell_type": "markdown",
   "metadata": {},
   "source": [
    "Let's read the DataFrame from disk to confirm that we were able to save the file properly."
   ]
  },
  {
   "cell_type": "code",
   "execution_count": 23,
   "metadata": {
    "collapsed": false
   },
   "outputs": [
    {
     "data": {
      "text/html": [
       "<div style=\"max-height:1000px;max-width:1500px;overflow:auto;\">\n",
       "<table border=\"1\" class=\"dataframe\">\n",
       "  <thead>\n",
       "    <tr style=\"text-align: right;\">\n",
       "      <th></th>\n",
       "      <th>NAME</th>\n",
       "      <th>P0010001</th>\n",
       "      <th>county</th>\n",
       "      <th>state</th>\n",
       "      <th>tract</th>\n",
       "      <th>FIPS</th>\n",
       "    </tr>\n",
       "  </thead>\n",
       "  <tbody>\n",
       "    <tr>\n",
       "      <th>0</th>\n",
       "      <td>Census Tract 201</td>\n",
       "      <td>1912</td>\n",
       "      <td>001</td>\n",
       "      <td>01</td>\n",
       "      <td>020100</td>\n",
       "      <td>01001020100</td>\n",
       "    </tr>\n",
       "    <tr>\n",
       "      <th>1</th>\n",
       "      <td>Census Tract 202</td>\n",
       "      <td>2170</td>\n",
       "      <td>001</td>\n",
       "      <td>01</td>\n",
       "      <td>020200</td>\n",
       "      <td>01001020200</td>\n",
       "    </tr>\n",
       "    <tr>\n",
       "      <th>2</th>\n",
       "      <td>Census Tract 203</td>\n",
       "      <td>3373</td>\n",
       "      <td>001</td>\n",
       "      <td>01</td>\n",
       "      <td>020300</td>\n",
       "      <td>01001020300</td>\n",
       "    </tr>\n",
       "    <tr>\n",
       "      <th>3</th>\n",
       "      <td>Census Tract 204</td>\n",
       "      <td>4386</td>\n",
       "      <td>001</td>\n",
       "      <td>01</td>\n",
       "      <td>020400</td>\n",
       "      <td>01001020400</td>\n",
       "    </tr>\n",
       "    <tr>\n",
       "      <th>4</th>\n",
       "      <td>Census Tract 205</td>\n",
       "      <td>10766</td>\n",
       "      <td>001</td>\n",
       "      <td>01</td>\n",
       "      <td>020500</td>\n",
       "      <td>01001020500</td>\n",
       "    </tr>\n",
       "  </tbody>\n",
       "</table>\n",
       "</div>"
      ],
      "text/plain": [
       "               NAME  P0010001 county state   tract         FIPS\n",
       "0  Census Tract 201      1912    001    01  020100  01001020100\n",
       "1  Census Tract 202      2170    001    01  020200  01001020200\n",
       "2  Census Tract 203      3373    001    01  020300  01001020300\n",
       "3  Census Tract 204      4386    001    01  020400  01001020400\n",
       "4  Census Tract 205     10766    001    01  020500  01001020500"
      ]
     },
     "execution_count": 23,
     "metadata": {},
     "output_type": "execute_result"
    }
   ],
   "source": [
    "df = pd.read_pickle(TRACT_FILE_PICKLE)\n",
    "df.head()"
   ]
  },
  {
   "cell_type": "code",
   "execution_count": 24,
   "metadata": {
    "collapsed": false
   },
   "outputs": [],
   "source": [
    "# UNCOMMENT TO DO COMPARISON\n",
    "# you can compare the saved file to the file from disk\n",
    "# np.all(tracts_df == df)"
   ]
  }
 ],
 "metadata": {
  "kernelspec": {
   "display_name": "Python 2",
   "language": "python",
   "name": "python2"
  },
  "language_info": {
   "codemirror_mode": {
    "name": "ipython",
    "version": 2
   },
   "file_extension": ".py",
   "mimetype": "text/x-python",
   "name": "python",
   "nbconvert_exporter": "python",
   "pygments_lexer": "ipython2",
   "version": "2.7.10"
  }
 },
 "nbformat": 4,
 "nbformat_minor": 0
}
