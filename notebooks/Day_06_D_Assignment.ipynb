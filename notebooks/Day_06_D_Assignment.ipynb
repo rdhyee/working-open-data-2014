{
 "cells": [
  {
   "cell_type": "code",
   "execution_count": null,
   "metadata": {
    "collapsed": false
   },
   "outputs": [],
   "source": [
    "import pandas as pd\n",
    "from pandas import DataFrame\n",
    "\n",
    "import census\n",
    "import settings\n",
    "import us\n",
    "\n",
    "from itertools import islice\n",
    "\n",
    "# instantiate the census object\n",
    "\n",
    "c=census.Census(settings.CENSUS_KEY)\n"
   ]
  },
  {
   "cell_type": "code",
   "execution_count": null,
   "metadata": {
    "collapsed": false
   },
   "outputs": [],
   "source": [
    "## EXERCISE\n",
    "## FILL in with your generator for all census places in the 2010 census \n",
    "\n",
    "\n",
    "def places(variables=\"NAME\"):\n",
    "    \n",
    "    # placeholder generator\n",
    "    # replace with your own code\n",
    "    for k in []:\n",
    "        yield k\n",
    "    \n",
    "\n",
    "\n",
    "    \n",
    "    \n",
    "    \n",
    "    "
   ]
  },
  {
   "cell_type": "code",
   "execution_count": null,
   "metadata": {
    "collapsed": false
   },
   "outputs": [],
   "source": [
    "# use this code to run your code\n",
    "# I recommend replacing the None in islice to a small number to make sure you're on \n",
    "# the right track\n",
    "\n",
    "r = list(islice(places(\"NAME,P0010001\"), None))\n",
    "places_df = DataFrame(r)\n",
    "places_df.P0010001 = places_df.P0010001.astype('int')\n",
    "\n",
    "places_df['FIPS'] = places_df.apply(lambda s: s['state']+s['place'], axis=1)\n",
    "\n",
    "print \"number of places\", len(places_df)\n",
    "print \"total pop\", places_df.P0010001.sum()\n",
    "places_df.head()"
   ]
  },
  {
   "cell_type": "code",
   "execution_count": null,
   "metadata": {
    "collapsed": false
   },
   "outputs": [],
   "source": [
    "# if you've done this correctly, the following asserts should stop complaining\n",
    "\n",
    "assert places_df.P0010001.sum() == 228457238\n",
    "# number of places in 2010 Census\n",
    "assert len(places_df) == 29261"
   ]
  }
 ],
 "metadata": {
  "kernelspec": {
   "display_name": "Python 2",
   "language": "python",
   "name": "python2"
  },
  "language_info": {
   "codemirror_mode": {
    "name": "ipython",
    "version": 2
   },
   "file_extension": ".py",
   "mimetype": "text/x-python",
   "name": "python",
   "nbconvert_exporter": "python",
   "pygments_lexer": "ipython2",
   "version": "2.7.10"
  }
 },
 "nbformat": 4,
 "nbformat_minor": 0
}
