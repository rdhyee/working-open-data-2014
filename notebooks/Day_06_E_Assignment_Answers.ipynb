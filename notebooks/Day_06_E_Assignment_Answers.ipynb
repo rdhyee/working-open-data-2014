{
 "cells": [
  {
   "cell_type": "code",
   "execution_count": 1,
   "metadata": {
    "collapsed": false
   },
   "outputs": [],
   "source": [
    "import pandas as pd\n",
    "from pandas import DataFrame\n",
    "\n",
    "import census\n",
    "import settings\n",
    "import us\n",
    "\n",
    "from itertools import islice\n",
    "\n",
    "# instantiate the census object\n",
    "\n",
    "c=census.Census(settings.CENSUS_KEY)\n"
   ]
  },
  {
   "cell_type": "code",
   "execution_count": 2,
   "metadata": {
    "collapsed": false
   },
   "outputs": [],
   "source": [
    "def places(variables=\"NAME\"):\n",
    "    \n",
    "    for state in us.states.STATES:\n",
    "        print state\n",
    "        geo = {'for':'place:*', 'in':'state:{s_fips}'.format(s_fips=state.fips)}\n",
    "        for place in c.sf1.get(variables, geo=geo):\n",
    "            yield place\n",
    "\n"
   ]
  },
  {
   "cell_type": "code",
   "execution_count": 3,
   "metadata": {
    "collapsed": false
   },
   "outputs": [
    {
     "name": "stdout",
     "output_type": "stream",
     "text": [
      "Alabama\n",
      "Alaska\n",
      "Arizona\n",
      "Arkansas\n",
      "California\n",
      "Colorado\n",
      "Connecticut\n",
      "Delaware\n",
      "District of Columbia\n",
      "Florida\n",
      "Georgia\n",
      "Hawaii\n",
      "Idaho\n",
      "Illinois\n",
      "Indiana\n",
      "Iowa\n",
      "Kansas\n",
      "Kentucky\n",
      "Louisiana\n",
      "Maine\n",
      "Maryland\n",
      "Massachusetts\n",
      "Michigan\n",
      "Minnesota\n",
      "Mississippi\n",
      "Missouri\n",
      "Montana\n",
      "Nebraska\n",
      "Nevada\n",
      "New Hampshire\n",
      "New Jersey\n",
      "New Mexico\n",
      "New York\n",
      "North Carolina\n",
      "North Dakota\n",
      "Ohio\n",
      "Oklahoma\n",
      "Oregon\n",
      "Pennsylvania\n",
      "Rhode Island\n",
      "South Carolina\n",
      "South Dakota\n",
      "Tennessee\n",
      "Texas\n",
      "Utah\n",
      "Vermont\n",
      "Virginia\n",
      "Washington\n",
      "West Virginia\n",
      "Wisconsin\n",
      "Wyoming\n",
      "number of places 29261\n",
      "total pop 228457238\n"
     ]
    },
    {
     "data": {
      "text/html": [
       "<div style=\"max-height:1000px;max-width:1500px;overflow:auto;\">\n",
       "<table border=\"1\" class=\"dataframe\">\n",
       "  <thead>\n",
       "    <tr style=\"text-align: right;\">\n",
       "      <th></th>\n",
       "      <th>NAME</th>\n",
       "      <th>P0010001</th>\n",
       "      <th>place</th>\n",
       "      <th>state</th>\n",
       "      <th>FIPS</th>\n",
       "    </tr>\n",
       "  </thead>\n",
       "  <tbody>\n",
       "    <tr>\n",
       "      <th>0</th>\n",
       "      <td>Abanda CDP</td>\n",
       "      <td>192</td>\n",
       "      <td>00100</td>\n",
       "      <td>01</td>\n",
       "      <td>0100100</td>\n",
       "    </tr>\n",
       "    <tr>\n",
       "      <th>1</th>\n",
       "      <td>Abbeville city</td>\n",
       "      <td>2688</td>\n",
       "      <td>00124</td>\n",
       "      <td>01</td>\n",
       "      <td>0100124</td>\n",
       "    </tr>\n",
       "    <tr>\n",
       "      <th>2</th>\n",
       "      <td>Adamsville city</td>\n",
       "      <td>4522</td>\n",
       "      <td>00460</td>\n",
       "      <td>01</td>\n",
       "      <td>0100460</td>\n",
       "    </tr>\n",
       "    <tr>\n",
       "      <th>3</th>\n",
       "      <td>Addison town</td>\n",
       "      <td>758</td>\n",
       "      <td>00484</td>\n",
       "      <td>01</td>\n",
       "      <td>0100484</td>\n",
       "    </tr>\n",
       "    <tr>\n",
       "      <th>4</th>\n",
       "      <td>Akron town</td>\n",
       "      <td>356</td>\n",
       "      <td>00676</td>\n",
       "      <td>01</td>\n",
       "      <td>0100676</td>\n",
       "    </tr>\n",
       "  </tbody>\n",
       "</table>\n",
       "</div>"
      ],
      "text/plain": [
       "              NAME  P0010001  place state     FIPS\n",
       "0       Abanda CDP       192  00100    01  0100100\n",
       "1   Abbeville city      2688  00124    01  0100124\n",
       "2  Adamsville city      4522  00460    01  0100460\n",
       "3     Addison town       758  00484    01  0100484\n",
       "4       Akron town       356  00676    01  0100676"
      ]
     },
     "execution_count": 3,
     "metadata": {},
     "output_type": "execute_result"
    }
   ],
   "source": [
    "r = list(islice(places(\"NAME,P0010001\"), None))\n",
    "places_df = DataFrame(r)\n",
    "places_df.P0010001 = places_df.P0010001.astype('int')\n",
    "\n",
    "places_df['FIPS'] = places_df.apply(lambda s: s['state']+s['place'], axis=1)\n",
    "\n",
    "print \"number of places\", len(places_df)\n",
    "print \"total pop\", places_df.P0010001.sum()\n",
    "places_df.head()"
   ]
  },
  {
   "cell_type": "code",
   "execution_count": 4,
   "metadata": {
    "collapsed": false
   },
   "outputs": [],
   "source": [
    "assert places_df.P0010001.sum() == 228457238\n",
    "# number of places in 2010 Census\n",
    "assert len(places_df) == 29261"
   ]
  },
  {
   "cell_type": "code",
   "execution_count": null,
   "metadata": {
    "collapsed": false
   },
   "outputs": [],
   "source": []
  }
 ],
 "metadata": {
  "kernelspec": {
   "display_name": "Python 2",
   "language": "python",
   "name": "python2"
  },
  "language_info": {
   "codemirror_mode": {
    "name": "ipython",
    "version": 2
   },
   "file_extension": ".py",
   "mimetype": "text/x-python",
   "name": "python",
   "nbconvert_exporter": "python",
   "pygments_lexer": "ipython2",
   "version": "2.7.10"
  }
 },
 "nbformat": 4,
 "nbformat_minor": 0
}
