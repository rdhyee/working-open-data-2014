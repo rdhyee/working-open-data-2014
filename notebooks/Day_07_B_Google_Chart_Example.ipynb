{
 "cells": [
  {
   "cell_type": "markdown",
   "metadata": {},
   "source": [
    "Goal:  get a simple Google Chart w/ world map into the Notebook.\n",
    "\n",
    "This might not prove to be the best way to do things, but the goal is to get a start."
   ]
  },
  {
   "cell_type": "code",
   "execution_count": 1,
   "metadata": {
    "collapsed": false
   },
   "outputs": [
    {
     "data": {
      "application/javascript": [
       "$.getScript('//www.google.com/jsapi');"
      ],
      "text/plain": [
       "<IPython.core.display.Javascript object>"
      ]
     },
     "metadata": {},
     "output_type": "display_data"
    }
   ],
   "source": [
    "%%javascript\n",
    "$.getScript('//www.google.com/jsapi');"
   ]
  },
  {
   "cell_type": "code",
   "execution_count": 2,
   "metadata": {
    "collapsed": false
   },
   "outputs": [
    {
     "data": {
      "text/html": [
       "<div id=\"chart_div\"></div>"
      ],
      "text/plain": [
       "<IPython.core.display.HTML object>"
      ]
     },
     "metadata": {},
     "output_type": "display_data"
    }
   ],
   "source": [
    "%%html\n",
    "<div id=\"chart_div\"></div>"
   ]
  },
  {
   "cell_type": "markdown",
   "metadata": {},
   "source": [
    "[[IPython-User] using Google Charts in IPython](http://lists.ipython.scipy.org/pipermail/ipython-user/2013-May/012694.html):\n",
    "\n",
    "> google.load blanks the page unless you give it a\n",
    "callback<http://stackoverflow.com/questions/9519673/why-does-google-load-cause-my-page-to-go-blank>\n",
    ".\n"
   ]
  },
  {
   "cell_type": "code",
   "execution_count": 3,
   "metadata": {
    "collapsed": false
   },
   "outputs": [
    {
     "data": {
      "application/javascript": [
       "\n",
       "var drawRegionsMap = function() {\n",
       "    var data = google.visualization.arrayToDataTable([\n",
       "      ['Country', 'Popularity'],\n",
       "      ['Germany', 200],\n",
       "      ['United States', 300],\n",
       "      ['Brazil', 400],\n",
       "      ['Canada', 500],\n",
       "      ['France', 600],\n",
       "      ['RU', 700]\n",
       "    ]);\n",
       "    var options = {};\n",
       "\n",
       "    var chart = new google.visualization.GeoChart(document.getElementById('chart_div'));\n",
       "    chart.draw(data, options);\n",
       "}\n",
       "\n",
       "// google.setOnLoadCallback(drawRegionsMap);\n",
       "google.load('visualization', '1', {'packages': ['geochart'],\n",
       "                                   'callback': drawRegionsMap});\n"
      ],
      "text/plain": [
       "<IPython.core.display.Javascript object>"
      ]
     },
     "metadata": {},
     "output_type": "display_data"
    }
   ],
   "source": [
    "%%javascript\n",
    "\n",
    "var drawRegionsMap = function() {\n",
    "    var data = google.visualization.arrayToDataTable([\n",
    "      ['Country', 'Popularity'],\n",
    "      ['Germany', 200],\n",
    "      ['United States', 300],\n",
    "      ['Brazil', 400],\n",
    "      ['Canada', 500],\n",
    "      ['France', 600],\n",
    "      ['RU', 700]\n",
    "    ]);\n",
    "    var options = {};\n",
    "\n",
    "    var chart = new google.visualization.GeoChart(document.getElementById('chart_div'));\n",
    "    chart.draw(data, options);\n",
    "}\n",
    "\n",
    "// google.setOnLoadCallback(drawRegionsMap);\n",
    "google.load('visualization', '1', {'packages': ['geochart'],\n",
    "                                   'callback': drawRegionsMap});\n",
    "\n"
   ]
  }
 ],
 "metadata": {
  "kernelspec": {
   "display_name": "Python 2",
   "language": "python",
   "name": "python2"
  },
  "language_info": {
   "codemirror_mode": {
    "name": "ipython",
    "version": 2
   },
   "file_extension": ".py",
   "mimetype": "text/x-python",
   "name": "python",
   "nbconvert_exporter": "python",
   "pygments_lexer": "ipython2",
   "version": "2.7.10"
  }
 },
 "nbformat": 4,
 "nbformat_minor": 0
}
