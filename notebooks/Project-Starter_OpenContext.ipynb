{
 "cells": [
  {
   "cell_type": "markdown",
   "metadata": {},
   "source": [
    "[Open Context: Data Publication for Cultural Heritage and Field\n",
    "Research](http://opencontext.org/): \"Open Context reviews, edits, and\n",
    "publishes archaeological research data and archives data with\n",
    "university-backed repositories, including the California Digital\n",
    "Library.\"\n",
    "\n",
    "I often think of OpenContext as an examplar – a model from the future:\n",
    "academic data archiving done right. Some cool features ([About Open\n",
    "Context: Technologies](http://opencontext.org/about/technology)):\n",
    "\n",
    "-   use of Atom feeds\n",
    "-   JSON\n",
    "-   KML\n",
    "-   use of [timemap - Javascript library to help use a SIMILE timeline\n",
    "    with online maps](https://code.google.com/p/timemap/) to map\n",
    "    events/objects in time and space (though I wonder whether this\n",
    "    technology has been superceded).\n",
    "-   contextualization by making ties to other data services\n",
    "    -   putting things on maps\n",
    "    -   ties to controlled vocabulary around biologica taxa and\n",
    "        archaelogical terminology.\n",
    "    -   use of linked open data: Examples?\n",
    "    -   would be great to tie in any technology we develop for the\n",
    "        visualization of large image collections into OpenContext.\n",
    "\n",
    "We want to provide for the long-term citability and availability of this\n",
    "data.\n",
    "\n",
    "Also contextualization.\n",
    "\n",
    "What was the excellent presentation/paper he made to us in WwOD13?\n",
    "\n",
    "-   Questions\n",
    "    -   What costs of archiving data on OpenContext (How are the costs\n",
    "        shared among depositor, OpenContext, CDL, and funding agencies?)\n",
    "        I think [About Open Context: Estimate Data Management +\n",
    "        Publication Costs](http://opencontext.org/about/estimate) gives\n",
    "        some clues.\n",
    "    -   What guarantees are made about the data once it's archived at\n",
    "        OpenContext and CDL? [About Open\n",
    "        Context](http://opencontext.org/about/): \"Data safeguarded and\n",
    "        preserved though archiving with the University of California's\n",
    "        California Digital Library\"\n",
    "    -   How do you cite data in OpenContext?\n",
    "    -   Who is reusing this data? Examples?\n",
    "    -   IP rights of images (and other data)? Can we tie to Wikipedia\n",
    "        and to Wikimedia Commons? (Some insights in [About Open Context:\n",
    "        Intellectual\n",
    "        Property](http://opencontext.org/about/intellectual-property)\n",
    "        but all the whole range of issues are complex. It seems like\n",
    "        there will be varying levels of openness and restriction in\n",
    "        OpenContext. I will want to dive in to look at specific\n",
    "        examples.)\n",
    "        -   For example, I don't see any explicit copyright statement at\n",
    "            [Open Context Image Lightbox: (1021 Images\n",
    "            Showing)](http://opencontext.org/lightbox/?proj=Asian+Stoneware+Jars)\n",
    "            or\n",
    "            [http://opencontext.org/sets/.json?proj=Asian+Stoneware+Jars](http://opencontext.org/sets/.json?proj=Asian+Stoneware+Jars)\n",
    "    -   Can we bulk download data from OpenContext?\n",
    "-   open data in science, specifically archaeology\n",
    "    -   OpenContext has an API: [About Open Context: Web Services and\n",
    "        APIs](http://opencontext.org/about/services)\n",
    "-   [Open Context: Data Publication for Cultural Heritage and Field\n",
    "    Research](http://opencontext.org/)\n",
    "-   Eric Kansa ([@ekansa](https://twitter.com/ekansa)) is a former I\n",
    "    School Adjunct Prof, and we've done work together on open goverment,\n",
    "    particularly on the Recovery Act. Eric was recently honored (in\n",
    "    2013) by the White House [Open Science Champion of\n",
    "    Change](http://www.neh.gov/files/divisions/odh/images/wh_neh_champions.jpg).\n",
    "-   possible project ideas\n",
    "    -   visualizing the image collections in OpenContext.\n",
    "    -   making ties to Encyclopedia of Life\n",
    "    -   thinking about challenges of archiving data, reconciling data,\n",
    "        aligning metadata to standards.\n",
    "    -   I see a \"suggested citation\" in pages like [Open Context view of\n",
    "        Item: Trench\n",
    "        6](http://opencontext.org/subjects/E5B52F10-333F-4CB8-C397-7DFAD00A3719).\n",
    "        Good idea to embed metadata into page to make Zotero know how to\n",
    "        grab citation metadata?\n",
    "\n",
    "There are so many possibilities here; we can work iteratively with Eric Kansa to\n",
    "develop a good project without having it all figured out upfront.\n",
    "\n",
    "Eric has mentioned to me the idea of time span facets.\n"
   ]
  },
  {
   "cell_type": "markdown",
   "metadata": {},
   "source": [
    "# Studying the UI"
   ]
  },
  {
   "cell_type": "markdown",
   "metadata": {},
   "source": [
    "How to reproduce data represented by the map on [Open Context](http://opencontext.org/)?\n",
    "\n",
    "How to use the API to get a list of projects?\n",
    "\n",
    "http://opencontext.org/sets/.json returns json representation of items, but\n",
    "http://opencontext.org/projects/.json doesn't work for getting list of all projects. Answer: "
   ]
  },
  {
   "cell_type": "markdown",
   "metadata": {},
   "source": [
    "# A quick jump into the API of opencontext.org\n",
    "\n",
    "Let's use a specific project to focus on:\n",
    "\n",
    "* <http://opencontext.org/sets/?proj=Asian+Stoneware+Jars>\n",
    "* <http://opencontext.org/lightbox/?proj=Asian+Stoneware+Jars>\n",
    "\n",
    "\n",
    "The API documentation: <http://opencontext.org/about/services>"
   ]
  },
  {
   "cell_type": "markdown",
   "metadata": {},
   "source": [
    "[Open Context: Data Publication for Cultural Heritage and Field Research](http://opencontext.org/)"
   ]
  },
  {
   "cell_type": "code",
   "execution_count": null,
   "metadata": {
    "collapsed": false
   },
   "outputs": [],
   "source": [
    "# using an example in the API documentation to confirm that we can get json representation from API\n",
    "\n",
    "import requests\n",
    "json_url = \"http://opencontext.org/sets/Palestinian+Authority/Tell+en-Nasbeh/.json?proj=Bade+Museum\"\n",
    "\n",
    "r = requests.get(json_url)\n",
    "\n",
    "# what are the top level keys of response?\n",
    "r.json().keys()"
   ]
  },
  {
   "cell_type": "code",
   "execution_count": null,
   "metadata": {
    "collapsed": false
   },
   "outputs": [],
   "source": [
    "# Now let's apply same logic to the Asian Stoneware Jars project\n",
    "\n",
    "json_url = \"http://opencontext.org/sets/.json?proj=Asian+Stoneware+Jars\"\n",
    "\n",
    "request = requests.get(json_url)\n",
    "request_json = request.json()\n",
    "\n",
    "results= request_json['results']\n"
   ]
  },
  {
   "cell_type": "code",
   "execution_count": null,
   "metadata": {
    "collapsed": false
   },
   "outputs": [],
   "source": [
    "request_json.keys()"
   ]
  },
  {
   "cell_type": "code",
   "execution_count": null,
   "metadata": {
    "collapsed": false
   },
   "outputs": [],
   "source": [
    "# number of results matches what is on human UI\n",
    "request_json['numFound']"
   ]
  },
  {
   "cell_type": "code",
   "execution_count": null,
   "metadata": {
    "collapsed": false
   },
   "outputs": [],
   "source": [
    "# we get back the first page of 10\n",
    "len(results)"
   ]
  },
  {
   "cell_type": "code",
   "execution_count": null,
   "metadata": {
    "collapsed": false
   },
   "outputs": [],
   "source": [
    "results[0]"
   ]
  },
  {
   "cell_type": "code",
   "execution_count": null,
   "metadata": {
    "collapsed": false
   },
   "outputs": [],
   "source": [
    "# list the URLs for the thumbnails\n",
    "[result.get('thumbIcon') for result in results]"
   ]
  },
  {
   "cell_type": "code",
   "execution_count": null,
   "metadata": {
    "collapsed": false
   },
   "outputs": [],
   "source": [
    "# do a quick display\n",
    "\n",
    "from IPython.display import HTML\n",
    "from jinja2 import Template\n",
    "\n",
    "CSS = \"\"\"\n",
    "<style>\n",
    "  .wrap img {\n",
    "    margin-left: 0px;\n",
    "    margin-right: 0px;\n",
    "    display: inline-block;\n",
    "  }\n",
    "</style>\n",
    "\"\"\"\n",
    "\n",
    "IMAGES_TEMPLATE = CSS + \"\"\"\n",
    "<div class=\"wrap\">\n",
    " {% for item in items %}<img title=\"{{item.label}}\" src=\"{{item.thumbIcon}}\"/>{% endfor %}\n",
    "</div>\n",
    "\"\"\"\n",
    "    \n",
    "template = Template(IMAGES_TEMPLATE)\n",
    "HTML(template.render(items=results)) "
   ]
  },
  {
   "cell_type": "markdown",
   "metadata": {},
   "source": [
    "# Parsing http://opencontext.org/sets/.json"
   ]
  },
  {
   "cell_type": "code",
   "execution_count": null,
   "metadata": {
    "collapsed": false
   },
   "outputs": [],
   "source": [
    "import requests\n",
    "url = \"http://opencontext.org/sets/.json\"\n",
    "\n",
    "r = requests.get(url)\n",
    "r.json().keys()"
   ]
  },
  {
   "cell_type": "code",
   "execution_count": null,
   "metadata": {
    "collapsed": false
   },
   "outputs": [],
   "source": [
    "r.json()['numFound']"
   ]
  },
  {
   "cell_type": "code",
   "execution_count": null,
   "metadata": {
    "collapsed": false
   },
   "outputs": [],
   "source": [
    "r.json()['paging']['prev']"
   ]
  },
  {
   "cell_type": "code",
   "execution_count": null,
   "metadata": {
    "collapsed": false
   },
   "outputs": [],
   "source": [
    "# write a generator for all items in http://opencontext.org/sets/.json\n",
    "\n",
    "import requests\n",
    "\n",
    "def opencontext_items():\n",
    "    \n",
    "    url = \"http://opencontext.org/sets/.json\"\n",
    "    more_items = True\n",
    "    \n",
    "    while more_items:\n",
    "        r = requests.get(url)\n",
    "        for item in r.json()['results']:\n",
    "            yield item\n",
    "    \n",
    "        url = r.json()['paging']['next']\n",
    "        if not url:\n",
    "            more_items = False\n",
    "                       "
   ]
  },
  {
   "cell_type": "code",
   "execution_count": null,
   "metadata": {
    "collapsed": false
   },
   "outputs": [],
   "source": [
    "from itertools import islice\n",
    "results = list(islice(opencontext_items(), 25))\n",
    "HTML(template.render(items=results)) "
   ]
  },
  {
   "cell_type": "markdown",
   "metadata": {},
   "source": [
    "# Parsing http://opencontext.org/projects/.atom"
   ]
  },
  {
   "cell_type": "code",
   "execution_count": null,
   "metadata": {
    "collapsed": false
   },
   "outputs": [],
   "source": [
    "import requests\n",
    "import lxml\n",
    "from lxml import etree\n",
    "\n",
    "url = \"http://opencontext.org/projects/.atom\"\n",
    "r = requests.get(url)"
   ]
  },
  {
   "cell_type": "code",
   "execution_count": null,
   "metadata": {
    "collapsed": false
   },
   "outputs": [],
   "source": [
    "doc = etree.fromstring(r.content)\n",
    "doc"
   ]
  },
  {
   "cell_type": "code",
   "execution_count": null,
   "metadata": {
    "collapsed": false
   },
   "outputs": [],
   "source": [
    "# get list of titles\n",
    "\n",
    "project_titles = [e.find('{http://www.w3.org/2005/Atom}title').text for e in doc.findall('{http://www.w3.org/2005/Atom}entry')]\n",
    "for (i, title) in enumerate(project_titles):\n",
    "    print i+1, title"
   ]
  },
  {
   "cell_type": "code",
   "execution_count": null,
   "metadata": {
    "collapsed": false
   },
   "outputs": [],
   "source": []
  }
 ],
 "metadata": {
  "kernelspec": {
   "display_name": "Python 2",
   "language": "python",
   "name": "python2"
  },
  "language_info": {
   "codemirror_mode": {
    "name": "ipython",
    "version": 2
   },
   "file_extension": ".py",
   "mimetype": "text/x-python",
   "name": "python",
   "nbconvert_exporter": "python",
   "pygments_lexer": "ipython2",
   "version": "2.7.9"
  }
 },
 "nbformat": 4,
 "nbformat_minor": 0
}
