{
 "cells": [
  {
   "cell_type": "markdown",
   "metadata": {},
   "source": [
    "# Goal"
   ]
  },
  {
   "cell_type": "markdown",
   "metadata": {},
   "source": [
    "Let's get set up to use the US Census API:\n",
    "\n",
    "    http://www.census.gov/developers/"
   ]
  },
  {
   "cell_type": "markdown",
   "metadata": {},
   "source": [
    "Things we'd like to be able to do:\n",
    "\n",
    "* calculate the population of California.\n",
    "* then calculate the population of every geographic entity going down to census block if possible.\n",
    "* for a given geographic unit, can we get the racial/ethnic breakdown?\n",
    "\n",
    "It's useful to make ties to the county-type calculation we do with the downloaded census files."
   ]
  },
  {
   "cell_type": "markdown",
   "metadata": {},
   "source": [
    "# Installing census, a useful Python module"
   ]
  },
  {
   "cell_type": "markdown",
   "metadata": {},
   "source": [
    "Dependency: to start with -- let's use the Python module: https://pypi.python.org/pypi/census/\n",
    "\n",
    "    pip install -U  census"
   ]
  },
  {
   "cell_type": "markdown",
   "metadata": {},
   "source": [
    "# Getting and activating an API key"
   ]
  },
  {
   "cell_type": "markdown",
   "metadata": {},
   "source": [
    "To use the census API, you will need an API key\n",
    "\n",
    "* fill out form at http://www.census.gov/developers/tos/key_request.html \n",
    "\n",
    "\"Your request for a new API key has been successfully submitted. Please check your email. In a few minutes you should receive a message with instructions on how to activate your new key.\"\n",
    "\n",
    "* click on link you'll get a link of the form http://api.census.gov/data/KeySignup?validate={key} -- where {key} is the one the Census Bureau will send you.\n",
    "\n",
    "Then create a settings.py in the same directory as this notebook (or somewhere else in your Python path) to hold `settings.CENSUS_KEY`.  (I prefer this approach over directly exposing your API key in the notebook code.)"
   ]
  },
  {
   "cell_type": "code",
   "execution_count": 1,
   "metadata": {
    "collapsed": false
   },
   "outputs": [],
   "source": [
    "# This cell should run successfully if you have a string set up to represent your census key\n",
    "\n",
    "try:\n",
    "    import settings\n",
    "    assert type(settings.CENSUS_KEY) == str or type(settings.CENSUS_KEY) == unicode\n",
    "except Exception as e:\n",
    "    print \"error in importing settings to get at settings.CENSUS_KEY\", e"
   ]
  },
  {
   "cell_type": "markdown",
   "metadata": {},
   "source": [
    "# us.states module"
   ]
  },
  {
   "cell_type": "code",
   "execution_count": 2,
   "metadata": {
    "collapsed": false
   },
   "outputs": [],
   "source": [
    "# let's figure out a bit about the us module, in particular, us.states\n",
    "# https://github.com/unitedstates/python-us\n",
    "\n",
    "from us import states\n",
    "assert states.CA.fips == u'06'"
   ]
  },
  {
   "cell_type": "code",
   "execution_count": 3,
   "metadata": {
    "collapsed": false
   },
   "outputs": [],
   "source": [
    "# set up your census object\n",
    "# example from https://github.com/sunlightlabs/census\n",
    "\n",
    "from census import Census\n",
    "from us import states\n",
    "\n",
    "c = Census(settings.CENSUS_KEY)"
   ]
  },
  {
   "cell_type": "code",
   "execution_count": 4,
   "metadata": {
    "collapsed": false
   },
   "outputs": [
    {
     "name": "stdout",
     "output_type": "stream",
     "text": [
      "0 Alabama 01\n",
      "1 Alaska 02\n",
      "2 Arizona 04\n",
      "3 Arkansas 05\n",
      "4 California 06\n",
      "5 Colorado 08\n",
      "6 Connecticut 09\n",
      "7 Delaware 10\n",
      "8 District of Columbia 11\n",
      "9 Florida 12\n",
      "10 Georgia 13\n",
      "11 Hawaii 15\n",
      "12 Idaho 16\n",
      "13 Illinois 17\n",
      "14 Indiana 18\n",
      "15 Iowa 19\n",
      "16 Kansas 20\n",
      "17 Kentucky 21\n",
      "18 Louisiana 22\n",
      "19 Maine 23\n",
      "20 Maryland 24\n",
      "21 Massachusetts 25\n",
      "22 Michigan 26\n",
      "23 Minnesota 27\n",
      "24 Mississippi 28\n",
      "25 Missouri 29\n",
      "26 Montana 30\n",
      "27 Nebraska 31\n",
      "28 Nevada 32\n",
      "29 New Hampshire 33\n",
      "30 New Jersey 34\n",
      "31 New Mexico 35\n",
      "32 New York 36\n",
      "33 North Carolina 37\n",
      "34 North Dakota 38\n",
      "35 Ohio 39\n",
      "36 Oklahoma 40\n",
      "37 Oregon 41\n",
      "38 Pennsylvania 42\n",
      "39 Rhode Island 44\n",
      "40 South Carolina 45\n",
      "41 South Dakota 46\n",
      "42 Tennessee 47\n",
      "43 Texas 48\n",
      "44 Utah 49\n",
      "45 Vermont 50\n",
      "46 Virginia 51\n",
      "47 Washington 53\n",
      "48 West Virginia 54\n",
      "49 Wisconsin 55\n",
      "50 Wyoming 56\n"
     ]
    }
   ],
   "source": [
    "for (i, state) in enumerate(states.STATES):\n",
    "    print i, state.name, state.fips"
   ]
  },
  {
   "cell_type": "markdown",
   "metadata": {},
   "source": [
    "# Formulating URL requests to the API explicitly"
   ]
  },
  {
   "cell_type": "code",
   "execution_count": 5,
   "metadata": {
    "collapsed": false
   },
   "outputs": [],
   "source": [
    "import requests"
   ]
  },
  {
   "cell_type": "code",
   "execution_count": 6,
   "metadata": {
    "collapsed": false
   },
   "outputs": [],
   "source": [
    "# get the total population of all states\n",
    "url = \"http://api.census.gov/data/2010/sf1?key={key}&get=P0010001,NAME&for=state:*\".format(key=settings.CENSUS_KEY)"
   ]
  },
  {
   "cell_type": "code",
   "execution_count": 7,
   "metadata": {
    "collapsed": false
   },
   "outputs": [],
   "source": [
    "r = requests.get(url)"
   ]
  },
  {
   "cell_type": "markdown",
   "metadata": {},
   "source": [
    "# EXERCISE"
   ]
  },
  {
   "cell_type": "markdown",
   "metadata": {},
   "source": [
    "Show how to calculate the total population of the USA, including and excluding Puerto Rico.  (I don't know why Puerto Rico is included but not other [unincorporated territories](https://en.wikipedia.org/wiki/Unincorporated_territories_of_the_United_States)"
   ]
  },
  {
   "cell_type": "code",
   "execution_count": 8,
   "metadata": {
    "collapsed": false
   },
   "outputs": [],
   "source": [
    "# FILL IN WITH YOUR CODE\n",
    "\n",
    "\n"
   ]
  },
  {
   "cell_type": "markdown",
   "metadata": {},
   "source": [
    "# Next Steps: Focusing on sf1 + census"
   ]
  },
  {
   "cell_type": "markdown",
   "metadata": {},
   "source": [
    "How to map out the geographical hierachy and pull out total population figures?\n",
    "\n",
    " 1. Nation\n",
    " 1. Regions\n",
    " 1. Divisions\n",
    " 1. State\n",
    " 1. County\n",
    " 1. Census Tract\n",
    " 1. Block Group\n",
    " 1. Census Block\n",
    " \n",
    "Questions\n",
    " \n",
    "* What identifiers are used for these various geographic entities?  \n",
    "* Can we get an enumeration of each of these entities?\n",
    "* How to figure out which census tract, block group, census block one is in?\n",
    " \n"
   ]
  },
  {
   "cell_type": "markdown",
   "metadata": {},
   "source": [
    "## Total Population of California"
   ]
  },
  {
   "cell_type": "markdown",
   "metadata": {},
   "source": [
    "[2010 Census Summary File 1](http://www.census.gov/prod/cen2010/doc/sf1.pdf)\n",
    "\n",
    "P0010001 is found in [2010 SF1 API Variables \\[XML\\]](http://www.census.gov/developers/data/sf1.xml) = \"total population\""
   ]
  },
  {
   "cell_type": "code",
   "execution_count": 9,
   "metadata": {
    "collapsed": false
   },
   "outputs": [
    {
     "data": {
      "text/plain": [
       "[{u'NAME': u'California', u'P0010001': u'37253956', u'state': u'06'}]"
      ]
     },
     "execution_count": 9,
     "metadata": {},
     "output_type": "execute_result"
    }
   ],
   "source": [
    "c.sf1.get(('NAME', 'P0010001'), {'for': 'state:%s' % states.CA.fips})"
   ]
  },
  {
   "cell_type": "code",
   "execution_count": 10,
   "metadata": {
    "collapsed": false
   },
   "outputs": [
    {
     "data": {
      "text/plain": [
       "'population of California: 37253956'"
      ]
     },
     "execution_count": 10,
     "metadata": {},
     "output_type": "execute_result"
    }
   ],
   "source": [
    "\"population of California: {0}\".format(\n",
    "        int(c.sf1.get(('NAME', 'P0010001'), {'for': 'state:%s' % states.CA.fips})[0]['P0010001']))"
   ]
  }
 ],
 "metadata": {
  "kernelspec": {
   "display_name": "Python 2",
   "language": "python",
   "name": "python2"
  },
  "language_info": {
   "codemirror_mode": {
    "name": "ipython",
    "version": 2
   },
   "file_extension": ".py",
   "mimetype": "text/x-python",
   "name": "python",
   "nbconvert_exporter": "python",
   "pygments_lexer": "ipython2",
   "version": "2.7.10"
  }
 },
 "nbformat": 4,
 "nbformat_minor": 0
}
